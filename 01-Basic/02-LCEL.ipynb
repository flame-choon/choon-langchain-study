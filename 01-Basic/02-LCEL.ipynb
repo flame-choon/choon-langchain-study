{
 "cells": [
  {
   "cell_type": "code",
   "execution_count": 1,
   "metadata": {},
   "outputs": [
    {
     "name": "stdout",
     "output_type": "stream",
     "text": [
      "LangSmith 추적을 시작합니다.\n",
      "[프로젝트명]\n",
      "LANGCHAIN-CHOON\n"
     ]
    }
   ],
   "source": [
    "from dotenv import load_dotenv\n",
    "from langchain_teddynote import logging\n",
    "\n",
    "# .env 파일 로드\n",
    "load_dotenv()\n",
    "\n",
    "# langSmith에 로깅 할 프로젝트 명을 입력\n",
    "logging.langsmith(\"LANGCHAIN-CHOON\")\n",
    "# logging.langsmith(\"LANGCHAIN-CHOON\", set_enable=False)      # LangSmith 추적 비활성화"
   ]
  },
  {
   "cell_type": "markdown",
   "metadata": {},
   "source": [
    "## 1. 프롬프트 템플릿의 활용\n",
    "\n",
    "langchain에서 제공하는 프롬프트 템플릿을 이용하여 사용자 입력 변수에 대응하기 위한 프롬프트 템플릿을 만들 수 있다\n"
   ]
  },
  {
   "cell_type": "code",
   "execution_count": 3,
   "metadata": {},
   "outputs": [],
   "source": [
    "from langchain_core.prompts import PromptTemplate"
   ]
  },
  {
   "cell_type": "markdown",
   "metadata": {},
   "source": [
    "`from_template()` 메서드를 사용하여 PromptTemplate 객체 생성"
   ]
  },
  {
   "cell_type": "code",
   "execution_count": 4,
   "metadata": {},
   "outputs": [
    {
     "data": {
      "text/plain": [
       "PromptTemplate(input_variables=['city'], input_types={}, partial_variables={}, template='{city}의 NFL 팀 이름은 무엇인가요?')"
      ]
     },
     "execution_count": 4,
     "metadata": {},
     "output_type": "execute_result"
    }
   ],
   "source": [
    "# template 정의\n",
    "template = \"{city}의 NFL 팀 이름은 무엇인가요?\"\n",
    "\n",
    "# from_template 메서드를 이용하여 PromptTemplate 객체 생성\n",
    "prompt_template = PromptTemplate.from_template(template)\n",
    "prompt_template"
   ]
  },
  {
   "cell_type": "code",
   "execution_count": 8,
   "metadata": {},
   "outputs": [
    {
     "data": {
      "text/plain": [
       "'미네소타의 NFL 팀 이름은 무엇인가요?'"
      ]
     },
     "execution_count": 8,
     "metadata": {},
     "output_type": "execute_result"
    }
   ],
   "source": [
    "# Prompt 생성\n",
    "prompt = prompt_template.format(city=\"미네소타\")\n",
    "prompt"
   ]
  },
  {
   "cell_type": "code",
   "execution_count": 6,
   "metadata": {},
   "outputs": [
    {
     "data": {
      "text/plain": [
       "'LA의 NFL 팀 이름은 무엇인가요?'"
      ]
     },
     "execution_count": 6,
     "metadata": {},
     "output_type": "execute_result"
    }
   ],
   "source": [
    "# Prompt 생성\n",
    "prompt = prompt_template.format(city=\"LA\")\n",
    "prompt"
   ]
  },
  {
   "cell_type": "code",
   "execution_count": 9,
   "metadata": {},
   "outputs": [
    {
     "name": "stdout",
     "output_type": "stream",
     "text": [
      "content='미네소타의 NFL 팀 이름은 미네소타 바이킹스(Minnesota Vikings)입니다.' additional_kwargs={'refusal': None} response_metadata={'token_usage': {'completion_tokens': 24, 'prompt_tokens': 20, 'total_tokens': 44, 'completion_tokens_details': {'accepted_prediction_tokens': 0, 'audio_tokens': 0, 'reasoning_tokens': 0, 'rejected_prediction_tokens': 0}, 'prompt_tokens_details': {'audio_tokens': 0, 'cached_tokens': 0}}, 'model_name': 'gpt-4o-2024-08-06', 'system_fingerprint': 'fp_50cad350e4', 'finish_reason': 'stop', 'logprobs': None} id='run-b8aa4474-2745-4a27-b2de-b5c605736010-0' usage_metadata={'input_tokens': 20, 'output_tokens': 24, 'total_tokens': 44, 'input_token_details': {'audio': 0, 'cache_read': 0}, 'output_token_details': {'audio': 0, 'reasoning': 0}}\n"
     ]
    }
   ],
   "source": [
    "from langchain_openai import ChatOpenAI\n",
    "\n",
    "llm = ChatOpenAI(model=\"gpt-4o\", temperature=0.2)\n",
    "\n",
    "print(llm.invoke(prompt))"
   ]
  },
  {
   "cell_type": "markdown",
   "metadata": {},
   "source": [
    "## LCEL (LangChain Expression Language)\n",
    "\n",
    "LCEL을 사용하여 다양한 구성 요소를 하나의 체인으로 결합한다\n",
    "\n",
    "chain = prompt | model 혹은\n",
    "chain = prompt | model | model 등등 다양하게 본인만의 형태로 chain을 구성할 수 있다\n",
    "\n",
    "요소끼리 결합하는 방법은 요소 사이에 '|' 를 넣어주면 된다.\n",
    "요소끼리 결합을 하게 되면 prompt 요소에서 발생한 결과가 다음 요소인 model에게로 전달된다.\n"
   ]
  },
  {
   "cell_type": "code",
   "execution_count": 11,
   "metadata": {},
   "outputs": [],
   "source": [
    "from langchain_core.prompts import PromptTemplate\n",
    "from langchain_openai import ChatOpenAI\n",
    "\n",
    "# prompt를 PromptTemplate 객체로 생성\n",
    "prompt = PromptTemplate.from_template(\"{topic}에 대해 쉽게 설명해주세요.\")\n",
    "\n",
    "model = ChatOpenAI(model=\"gpt-4o\", temperature=0.3)\n",
    "\n",
    "# prompt 와 model을 결합하여 하나의 체인으로 생성\n",
    "chain = prompt | model"
   ]
  },
  {
   "cell_type": "markdown",
   "metadata": {},
   "source": [
    "### invoke() 호출\n",
    "\n",
    "- invoke() 메서드 호출 시, 입력값을 전달"
   ]
  },
  {
   "cell_type": "code",
   "execution_count": 12,
   "metadata": {},
   "outputs": [],
   "source": [
    "input = {\"topic\": \"NBA\"}"
   ]
  },
  {
   "cell_type": "code",
   "execution_count": 13,
   "metadata": {},
   "outputs": [
    {
     "data": {
      "text/plain": [
       "AIMessage(content='NBA는 \"National Basketball Association\"의 약자로, 미국의 프로 농구 리그입니다. NBA는 세계에서 가장 유명하고 수준 높은 농구 리그 중 하나로, 많은 팬들이 경기를 즐기고 있습니다. \\n\\nNBA는 1946년에 설립되었으며, 현재 30개의 팀이 소속되어 있습니다. 이 팀들은 미국과 캐나다에 위치해 있으며, 동부 콘퍼런스와 서부 콘퍼런스로 나뉘어 있습니다. 각 콘퍼런스는 다시 3개의 디비전으로 나뉩니다.\\n\\nNBA 시즌은 보통 10월에 시작하여 다음 해 4월까지 진행되며, 각 팀은 정규 시즌 동안 82경기를 치릅니다. 정규 시즌이 끝나면 각 콘퍼런스에서 상위 8개 팀이 플레이오프에 진출하여 최종적으로 NBA 챔피언을 가리게 됩니다. 플레이오프는 7전 4선승제로 진행됩니다.\\n\\nNBA는 마이클 조던, 르브론 제임스, 코비 브라이언트 등 전설적인 선수들을 배출했으며, 이들은 농구의 인기를 전 세계적으로 확산시키는 데 큰 역할을 했습니다. NBA는 또한 다양한 문화적, 사회적 이슈에 대한 목소리를 내며 스포츠 이상의 영향력을 발휘하고 있습니다.', additional_kwargs={'refusal': None}, response_metadata={'token_usage': {'completion_tokens': 296, 'prompt_tokens': 14, 'total_tokens': 310, 'completion_tokens_details': {'accepted_prediction_tokens': 0, 'audio_tokens': 0, 'reasoning_tokens': 0, 'rejected_prediction_tokens': 0}, 'prompt_tokens_details': {'audio_tokens': 0, 'cached_tokens': 0}}, 'model_name': 'gpt-4o-2024-08-06', 'system_fingerprint': 'fp_4691090a87', 'finish_reason': 'stop', 'logprobs': None}, id='run-003d17b1-1f7d-44e9-ac8a-b9fa6780176d-0', usage_metadata={'input_tokens': 14, 'output_tokens': 296, 'total_tokens': 310, 'input_token_details': {'audio': 0, 'cache_read': 0}, 'output_token_details': {'audio': 0, 'reasoning': 0}})"
      ]
     },
     "execution_count": 13,
     "metadata": {},
     "output_type": "execute_result"
    }
   ],
   "source": [
    "# prompt 객체와 model 객체를 | 연산자로 연결하고 invoke 메서드를 사용하여 input을 전달\n",
    "chain.invoke(input)"
   ]
  },
  {
   "cell_type": "markdown",
   "metadata": {},
   "source": [
    "### 출력 파서 (Output Parser)\n",
    "\n",
    "- 결과 출력시 결과 내용만 출력하고자하 할때 출력 파서를 체인에 추가한다"
   ]
  },
  {
   "cell_type": "code",
   "execution_count": 19,
   "metadata": {},
   "outputs": [],
   "source": [
    "from langchain_core.output_parsers import StrOutputParser\n",
    "\n",
    "output_parser = StrOutputParser()\n",
    "\n",
    "input = {\"topic\": \"NFL\"}\n",
    "\n",
    "# 프롬프트 , 모델, 출력 파서를 연결하여 하나의 체인으로 구성\n",
    "chain = prompt | model | output_parser"
   ]
  },
  {
   "cell_type": "code",
   "execution_count": 15,
   "metadata": {},
   "outputs": [
    {
     "name": "stdout",
     "output_type": "stream",
     "text": [
      "NFL은 \"National Football League\"의 약자로, 미국의 프로 미식축구 리그입니다. NFL은 미국에서 가장 인기 있는 스포츠 리그 중 하나로, 32개의 팀이 두 개의 컨퍼런스(아메리칸 풋볼 컨퍼런스와 내셔널 풋볼 컨퍼런스)로 나뉘어 있습니다. 각 팀은 정규 시즌 동안 17경기를 치르며, 성적에 따라 플레이오프에 진출하게 됩니다.\n",
      "\n",
      "플레이오프는 단판 승부로 진행되며, 최종적으로 두 컨퍼런스의 챔피언 팀이 슈퍼볼에서 맞붙어 리그의 최종 우승자를 가립니다. 슈퍼볼은 전 세계적으로 큰 관심을 받는 스포츠 이벤트 중 하나로, 많은 사람들이 경기를 시청하고 다양한 광고와 공연이 함께 진행됩니다.\n",
      "\n",
      "NFL 경기는 총 4쿼터로 나뉘어 있으며, 각 쿼터는 15분입니다. 팀은 공격과 수비를 번갈아 가며 경기를 진행하며, 상대 팀의 엔드존에 공을 가지고 들어가거나 필드골을 성공시켜 점수를 얻습니다. NFL은 전략과 체력이 중요한 스포츠로, 다양한 전술과 선수들의 뛰어난 기량이 경기를 흥미롭게 만듭니다.\n"
     ]
    }
   ],
   "source": [
    "print(chain.invoke(input))"
   ]
  },
  {
   "cell_type": "code",
   "execution_count": 21,
   "metadata": {},
   "outputs": [
    {
     "name": "stdout",
     "output_type": "stream",
     "text": [
      "NFL은 \"National Football League\"의 약자로, 미국의 프로 미식축구 리그입니다. NFL은 미국에서 가장 인기 있는 스포츠 리그 중 하나로, 32개의 팀이 두 개의 컨퍼런스(AFC와 NFC)로 나뉘어 경기를 펼칩니다. 시즌은 보통 9월에 시작하여 12월 말까지 정규 시즌 경기가 진행되며, 각 팀은 17경기를 치릅니다.\n",
      "\n",
      "정규 시즌이 끝나면 각 컨퍼런스에서 상위 팀들이 플레이오프에 진출하여, 최종적으로 두 컨퍼런스의 챔피언이 슈퍼볼(Super Bowl)에서 맞붙게 됩니다. 슈퍼볼은 미국에서 가장 큰 스포츠 이벤트 중 하나로, 전 세계적으로 많은 사람들이 시청합니다. NFL은 뛰어난 선수들, 전략적인 경기 운영, 그리고 화려한 쇼맨십으로 유명하며, 미국 문화의 중요한 부분을 차지하고 있습니다."
     ]
    }
   ],
   "source": [
    "# 스트리밍 출력\n",
    "stream_answer = chain.stream(input)\n",
    "for token in stream_answer:\n",
    "    print(token, end=\"\", flush=True)"
   ]
  },
  {
   "cell_type": "markdown",
   "metadata": {},
   "source": [
    "### 템플릿을 변경하여 적용\n",
    "\n",
    "- 템플릿을 응용하여 템플릿 내 작성한 FORMAT 형태로 답변을 받을 수 있다"
   ]
  },
  {
   "cell_type": "code",
   "execution_count": 28,
   "metadata": {},
   "outputs": [],
   "source": [
    "from langchain_core.output_parsers import StrOutputParser\n",
    "from langchain_core.prompts import PromptTemplate\n",
    "from langchain_openai import ChatOpenAI\n",
    "\n",
    "template = \"\"\"\n",
    " 당신은 영어를 가르치는 10년차 영어 선생님입니다. 주어진 상황에 맞는 영어 회화를 작성해 주세요.\n",
    " 양식은 [FORMAT]을 참고하여 작성해 주세요.\n",
    "\n",
    " # 상황: {question}\n",
    "\n",
    " # FORMAT:\n",
    " - 영어 회화:\n",
    " - 한글 해석:\n",
    "\"\"\"\n",
    "\n",
    "prompt = PromptTemplate.from_template(template)\n",
    "\n",
    "model = ChatOpenAI(model=\"gpt-4o\")\n",
    "\n",
    "output_parser = StrOutputParser()\n",
    "\n",
    "chain = prompt | model | output_parser"
   ]
  },
  {
   "cell_type": "code",
   "execution_count": 24,
   "metadata": {},
   "outputs": [
    {
     "name": "stdout",
     "output_type": "stream",
     "text": [
      "- 영어 회화:\n",
      "  - Barista: Hi, welcome to Starbucks! What can I get for you today?\n",
      "  - Customer: Hi, I’d like to order a tall caramel macchiato, please.\n",
      "  - Barista: Sure, would you like it hot or iced?\n",
      "  - Customer: I’ll have it hot, please.\n",
      "  - Barista: Great! Anything else?\n",
      "  - Customer: No, that’s all. Thank you.\n",
      "  - Barista: Alright, your total is $4.75. Can I have your name for the order?\n",
      "  - Customer: It’s Alex.\n",
      "  - Barista: Thank you, Alex. Your order will be ready shortly.\n",
      "\n",
      "- 한글 해석:\n",
      "  - 바리스타: 안녕하세요, 스타벅스에 오신 것을 환영합니다! 오늘 무엇을 도와드릴까요?\n",
      "  - 손님: 안녕하세요, 톨 사이즈의 카라멜 마키아또 하나 주문하고 싶어요.\n",
      "  - 바리스타: 네, 따뜻하게 드릴까요 아니면 차갑게 드릴까요?\n",
      "  - 손님: 따뜻하게 주세요.\n",
      "  - 바리스타: 알겠습니다! 다른 건 필요 없으세요?\n",
      "  - 손님: 아니요, 그게 전부입니다. 감사합니다.\n",
      "  - 바리스타: 알겠습니다, 총 금액은 $4.75입니다. 주문하신 분 이름을 말씀해 주시겠어요?\n",
      "  - 손님: 알렉스입니다.\n",
      "  - 바리스타: 감사합니다, 알렉스님. 주문하신 음료는 곧 준비됩니다.\n"
     ]
    }
   ],
   "source": [
    "input = {\"question\": \"스타벅스에서 음료를 주문하고 싶어요\"}\n",
    "\n",
    "print(chain.invoke(input))"
   ]
  },
  {
   "cell_type": "code",
   "execution_count": null,
   "metadata": {},
   "outputs": [],
   "source": [
    "input = {\"question\": \"치폴레에서 주문을 하고 싶어요\"}\n",
    "\n",
    "answer_stream = chain.stream(input)\n",
    "\n",
    "for token in answer_stream:\n",
    "    print(token, end=\"\")"
   ]
  },
  {
   "cell_type": "markdown",
   "metadata": {},
   "source": [
    "### Batch : 배치 (단위 실행)\n",
    "\n",
    "batch는 여러 개의 딕셔너리를 포함하는 리스트를 인자로 받아 일괄 처리를 수행"
   ]
  },
  {
   "cell_type": "code",
   "execution_count": 30,
   "metadata": {},
   "outputs": [
    {
     "name": "stdout",
     "output_type": "stream",
     "text": [
      "[\"- 영어 회화:\\n  - Customer: Hi, I'd like to order a Big Mac, please.\\n  - Cashier: Sure! Would you like to make it a meal with fries and a drink?\\n  - Customer: Yes, please. I'll have a medium meal.\\n  - Cashier: Great. What drink would you like with that?\\n  - Customer: I'll have a Coke, please.\\n  - Cashier: Perfect. Anything else for you today?\\n  - Customer: No, that's all. Thank you.\\n  - Cashier: Your total is $XX.XX. Please drive to the next window.\\n  - Customer: Thank you!\\n\\n- 한글 해석:\\n  - 고객: 안녕하세요, 빅맥 하나 주문하고 싶어요.\\n  - 캐셔: 네! 감자튀김과 음료가 포함된 세트로 드릴까요?\\n  - 고객: 네, 중간 사이즈 세트로 할게요.\\n  - 캐셔: 좋습니다. 어떤 음료로 드릴까요?\\n  - 고객: 콜라로 주세요.\\n  - 캐셔: 완벽합니다. 오늘은 이게 전부인가요?\\n  - 고객: 네, 이게 다예요. 감사합니다.\\n  - 캐셔: 총 금액은 $XX.XX입니다. 다음 창으로 이동해 주세요.\\n  - 고객: 감사합니다!\"]\n"
     ]
    }
   ],
   "source": [
    "input = [\n",
    "    {\n",
    "        \"question\": \"레스토랑에서 와인을 주문하고 싶어요\",\n",
    "        \"question\": \"맥도날드에서 빅맥을 주문하고 싶어\",\n",
    "    }\n",
    "]\n",
    "\n",
    "print(chain.batch(input))"
   ]
  },
  {
   "cell_type": "markdown",
   "metadata": {},
   "source": [
    "max_concurrency 를 정의하면 한 번에 처리한 딕셔너리의 수를 정의할 수 있다"
   ]
  },
  {
   "cell_type": "code",
   "execution_count": 31,
   "metadata": {},
   "outputs": [
    {
     "name": "stdout",
     "output_type": "stream",
     "text": [
      "[\"- 영어 회화:\\n  - Customer: Excuse me, could you help me with ordering a TV?\\n  - Salesperson: Of course! Do you have a specific model in mind?\\n  - Customer: Yes, I'm interested in the 55-inch Ultra HD model.\\n  - Salesperson: Great choice. Let me check our stock. Would you like it delivered to your home?\\n  - Customer: Yes, home delivery would be perfect. How long does it usually take?\\n  - Salesperson: It typically takes 3 to 5 business days. Is that okay for you?\\n  - Customer: Yes, that's fine. What are the payment options?\\n  - Salesperson: You can pay by credit card, debit card, or cash. Which would you prefer?\\n  - Customer: I'll pay with my credit card.\\n  - Salesperson: Perfect. I will process your order right away. Can I have your delivery address, please?\\n  - Customer: Sure, it's 123 Maple Street, Apartment 4B.\\n  - Salesperson: Thank you. Your order is all set. Is there anything else I can assist you with?\\n  - Customer: No, that's all. Thank you for your help!\\n  - Salesperson: You're welcome! Have a great day!\\n\\n- 한글 해석:\\n  - 고객: 저기요, TV 주문하는 데 도움을 받을 수 있을까요?\\n  - 판매원: 물론이죠! 특정 모델을 염두에 두고 계신가요?\\n  - 고객: 네, 55인치 울트라 HD 모델에 관심이 있습니다.\\n  - 판매원: 좋은 선택입니다. 재고를 확인해볼게요. 집으로 배송받으시겠어요?\\n  - 고객: 네, 집으로 배송받는 게 좋을 것 같아요. 보통 얼마나 걸리나요?\\n  - 판매원: 보통 3~5 영업일 정도 걸립니다. 괜찮으신가요?\\n  - 고객: 네, 괜찮습니다. 결제 옵션은 어떻게 되나요?\\n  - 판매원: 신용카드, 직불카드, 현금으로 결제할 수 있습니다. 어떤 걸로 하시겠어요?\\n  - 고객: 신용카드로 결제할게요.\\n  - 판매원: 알겠습니다. 주문을 바로 처리하겠습니다. 배송 주소를 알려주시겠어요?\\n  - 고객: 물론이죠, 123 메이플 스트리트, 아파트 4B입니다.\\n  - 판매원: 감사합니다. 주문이 완료되었습니다. 다른 도움 드릴 게 있을까요?\\n  - 고객: 아니요, 그게 다예요. 도와주셔서 감사합니다!\\n  - 판매원: 천만에요! 좋은 하루 보내세요!\"]\n"
     ]
    }
   ],
   "source": [
    "input = [\n",
    "    {\n",
    "        \"question\": \"레스토랑에서 와인을 주문하고 싶어요\",\n",
    "        \"question\": \"맥도날드에서 빅맥을 주문하고 싶어\",\n",
    "        \"question\": \"대형마트에서 TV를 주문하고 싶어\",\n",
    "    }\n",
    "]\n",
    "\n",
    "print(chain.batch(input, config={\"max_concurrency\": 2}))"
   ]
  },
  {
   "cell_type": "markdown",
   "metadata": {},
   "source": [
    "## 2. 비동기 호출\n",
    "\n",
    "### async stream : 비동기 스트림\n",
    "\n",
    "주어진 토픽에 대해 메시지를 비동기적으로 처리"
   ]
  },
  {
   "cell_type": "code",
   "execution_count": 32,
   "metadata": {},
   "outputs": [],
   "source": [
    "from langchain_core.prompts import PromptTemplate\n",
    "from langchain_core.output_parsers import StrOutputParser\n",
    "from langchain_openai import ChatOpenAI\n",
    "\n",
    "prompt = PromptTemplate.from_template(\"{topic} 에 대해 3문장으로 설명해줘.\")\n",
    "\n",
    "model = ChatOpenAI(model=\"gpt-4o\")\n",
    "\n",
    "output_parser = StrOutputParser()\n",
    "\n",
    "chain = prompt | model | output_parser"
   ]
  },
  {
   "cell_type": "markdown",
   "metadata": {},
   "source": [
    "비동기 스트림은 astream 으로 호출\n",
    "문자열 표시시 사용할 for 문 앞에 async를 붙여줘야 함"
   ]
  },
  {
   "cell_type": "code",
   "execution_count": 33,
   "metadata": {},
   "outputs": [
    {
     "name": "stdout",
     "output_type": "stream",
     "text": [
      "YouTube는 사용자가 동영상을 업로드하고 시청할 수 있는 세계 최대의 비디오 공유 플랫폼입니다. 다양한 콘텐츠 제작자들이 엔터테인먼트, 교육, 리뷰 등 다양한 주제의 동영상을 제공하며, 사용자들은 이를 구독하고 댓글을 남기며 소통할 수 있습니다. 또한, YouTube는 광고를 통해 수익을 창출하고, 크리에이터들도 이를 통해 수익을 얻을 수 있는 파트너십 프로그램을 제공합니다."
     ]
    }
   ],
   "source": [
    "input = {\"topic\": \"YouTube\"}\n",
    "async_stream = chain.astream(input)\n",
    "\n",
    "async for token in async_stream:\n",
    "    print(token, end=\"\", flush=True)"
   ]
  },
  {
   "cell_type": "markdown",
   "metadata": {},
   "source": [
    "### async invoke : 비동기 호출\n",
    "\n",
    "ainvoke를 이용하여 호출\n",
    "await 시 결과 호출"
   ]
  },
  {
   "cell_type": "code",
   "execution_count": 34,
   "metadata": {},
   "outputs": [
    {
     "data": {
      "text/plain": [
       "'Apple은 1976년에 설립된 미국의 다국적 기술 기업으로, 주로 혁신적인 전자 기기와 소프트웨어를 개발 및 판매합니다. 대표적인 제품으로는 iPhone, iPad, MacBook 등이 있으며, iOS와 macOS 같은 운영체제를 통해 사용자 경험을 극대화하는 데 중점을 둡니다. 또한 Apple은 디자인, 보안, 생태계 통합에 대한 높은 기준을 유지하면서 전 세계적으로 강력한 브랜드 인지도를 가지고 있습니다.'"
      ]
     },
     "execution_count": 34,
     "metadata": {},
     "output_type": "execute_result"
    }
   ],
   "source": [
    "input = {\"topic\": \"Apple\"}\n",
    "\n",
    "async_invoke = chain.ainvoke(input)\n",
    "await async_invoke"
   ]
  },
  {
   "cell_type": "markdown",
   "metadata": {},
   "source": [
    "### async batch: 비동기 배치\n",
    "\n",
    "abatch를 이용하여 호출\n",
    "await 시 결과 호출"
   ]
  },
  {
   "cell_type": "code",
   "execution_count": null,
   "metadata": {},
   "outputs": [
    {
     "data": {
      "text/plain": [
       "['소니(SONY)는 일본에 본사를 둔 다국적 기업으로, 전자 제품, 엔터테인먼트 및 금융 서비스 분야에서 세계적으로 유명합니다. 이 회사는 텔레비전, 카메라, 오디오 기기와 같은 다양한 소비자 전자 제품을 제조하며, 플레이스테이션(PlayStation)과 같은 게임 콘솔로도 잘 알려져 있습니다. 또한, 소니는 영화, 음악 및 게임 콘텐츠 제작과 배급에서도 큰 영향을 미치고 있는 엔터테인먼트 강자입니다.',\n",
       " 'Palantir는 주로 정부 기관과 대기업을 대상으로 데이터를 분석하고 관리하는 소프트웨어를 개발하는 미국의 기술 회사입니다. 이 회사는 복잡한 데이터 세트를 시각화하고 해석하는 데 도움을 주는 플랫폼을 제공하여 의사 결정 과정을 지원합니다. Palantir의 주요 제품 중에는 Palantir Gotham과 Palantir Foundry가 있으며, 각각 정보 분석과 데이터 통합을 위한 도구로 사용됩니다.']"
      ]
     },
     "execution_count": 36,
     "metadata": {},
     "output_type": "execute_result"
    }
   ],
   "source": [
    "input = [{\"topic\": \"Sony\"}, {\"topic\": \"Palantir\"}]\n",
    "\n",
    "async_batch = chain.abatch(input)\n",
    "await async_batch"
   ]
  },
  {
   "cell_type": "markdown",
   "metadata": {},
   "source": [
    "## 3. Parallel: 병렬성\n",
    "\n",
    "이전 과정에서 chain 은 chain = prompt | model | output_parser 이러한 형태로 구성했었는데 langchain에서는 prompt , model 각각을 Runnable 클래스로 이루어진 객체라 애기하며 이 RunnableParallel 클래스를 이용하면 Runnable 객체를 병렬로 실행할 수 있다."
   ]
  },
  {
   "cell_type": "code",
   "execution_count": 37,
   "metadata": {},
   "outputs": [],
   "source": [
    "from langchain_core.runnables import RunnableParallel\n",
    "\n",
    "chain1 = (\n",
    "    PromptTemplate.from_template(\"{country} 의 수도는 어디야?\") | model | output_parser\n",
    ")\n",
    "\n",
    "chain2 = (\n",
    "    PromptTemplate.from_template(\"{country} 의 면적은 얼마야?\") | model | output_parser\n",
    ")\n",
    "\n",
    "combined = RunnableParallel(capital=chain1, area=chain2)"
   ]
  },
  {
   "cell_type": "code",
   "execution_count": 38,
   "metadata": {},
   "outputs": [
    {
     "data": {
      "text/plain": [
       "{'capital': '미국의 수도는 워싱턴 D.C.입니다.',\n",
       " 'area': '미국의 총 면적은 약 983만 평방킬로미터(약 379만 평방마일)입니다. 이 면적은 육지와 수역을 포함한 전체 면적을 나타냅니다.'}"
      ]
     },
     "execution_count": 38,
     "metadata": {},
     "output_type": "execute_result"
    }
   ],
   "source": [
    "combined.invoke({\"country\": \"USA\"})"
   ]
  },
  {
   "cell_type": "code",
   "execution_count": 40,
   "metadata": {},
   "outputs": [
    {
     "data": {
      "text/plain": [
       "[{'capital': '프랑스의 수도는 파리입니다.',\n",
       "  'area': '프랑스의 면적은 약 551,695 제곱킬로미터입니다. 이는 유럽 대륙에 위치한 본토 프랑스의 면적을 기준으로 한 것입니다. 프랑스는 또한 해외 영토를 포함하고 있으며, 이들까지 포함하면 총 면적은 더 커집니다.'},\n",
       " {'capital': '베트남의 수도는 하노이입니다.', 'area': '베트남의 면적은 약 331,212 제곱킬로미터입니다.'}]"
      ]
     },
     "execution_count": 40,
     "metadata": {},
     "output_type": "execute_result"
    }
   ],
   "source": [
    "combined.batch([{\"country\": \"France\"}, {\"country\": \"Vietnam\"}])"
   ]
  },
  {
   "cell_type": "code",
   "execution_count": null,
   "metadata": {},
   "outputs": [],
   "source": []
  }
 ],
 "metadata": {
  "kernelspec": {
   "display_name": "langchain-kr-DBzZmRz6-py3.11",
   "language": "python",
   "name": "python3"
  },
  "language_info": {
   "codemirror_mode": {
    "name": "ipython",
    "version": 3
   },
   "file_extension": ".py",
   "mimetype": "text/x-python",
   "name": "python",
   "nbconvert_exporter": "python",
   "pygments_lexer": "ipython3",
   "version": "3.11.11"
  }
 },
 "nbformat": 4,
 "nbformat_minor": 2
}
