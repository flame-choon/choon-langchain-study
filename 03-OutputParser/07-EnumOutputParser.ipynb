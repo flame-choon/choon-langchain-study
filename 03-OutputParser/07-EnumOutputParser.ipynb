{
 "cells": [
  {
   "cell_type": "markdown",
   "metadata": {},
   "source": [
    "## EnumOutputParser\n",
    "\n",
    "LangChain의 EnumOutputParser는 언어 모델의 출력을 미리 정의된 열거형(Enum) 값 중 하나로 파싱하는 파서의 주요 특징과 사용법은 아래와 같다.\n",
    "\n",
    "### 주요 특징\n",
    "\n",
    "- **열거형 파싱** : 문자열 출력을 미리 정의된 Enum 값으로 변환.\n",
    "- **타입 안전성** : 파싱된 결과가 반드시 정의된 Enum 값 중 하나임을 보장.\n",
    "- **유연성** : 공백이나 줄바꿈 문자를 자동으로 처리.\n",
    "\n",
    "### 사용 방법\n",
    "\n",
    "EnumOutputParser는 언어 모델의 출력에서 유효한 Enum 값을 추출하는 데 유용. 이를 통해 출력 데이터를 유지하고 예측 가능성을 높일 수 있다. 파서를 사용하려면, 미리 정의된 Enum 값을 설정하고 해당 값을 기준으로 문자열 출력을 파싱한다."
   ]
  },
  {
   "cell_type": "code",
   "execution_count": 1,
   "metadata": {},
   "outputs": [
    {
     "name": "stdout",
     "output_type": "stream",
     "text": [
      "LangSmith 추적을 시작합니다.\n",
      "[프로젝트명]\n",
      "03-OutputParser\n"
     ]
    }
   ],
   "source": [
    "from dotenv import load_dotenv\n",
    "from langchain_teddynote import logging\n",
    "\n",
    "# .env 파일 로드\n",
    "load_dotenv()\n",
    "\n",
    "# langSmith에 로깅 할 프로젝트 명을 입력\n",
    "logging.langsmith(\"03-OutputParser\")"
   ]
  },
  {
   "cell_type": "code",
   "execution_count": 2,
   "metadata": {},
   "outputs": [],
   "source": [
    "from langchain.output_parsers.enum import EnumOutputParser"
   ]
  },
  {
   "cell_type": "markdown",
   "metadata": {},
   "source": [
    "- `enum` 모듈을 사용하여 `Colors` 클래스를 정의.\n",
    "- `Colors` 클래스는 `Enum`을 상속받으며, `RED`,`GREEN`, `BLUE` 세 가지 색상 값을 가진다."
   ]
  },
  {
   "cell_type": "code",
   "execution_count": 3,
   "metadata": {},
   "outputs": [],
   "source": [
    "from enum import Enum\n",
    "\n",
    "class Colors(Enum):\n",
    "    RED = \"빨간색\" \n",
    "    GREEN = \"초록색\" \n",
    "    BLUE = \"파란색\" "
   ]
  },
  {
   "cell_type": "markdown",
   "metadata": {},
   "source": [
    "`EnumOutputParser` 를 생성한다"
   ]
  },
  {
   "cell_type": "code",
   "execution_count": 4,
   "metadata": {},
   "outputs": [],
   "source": [
    "# EnumOutputParser 생성\n",
    "parser = EnumOutputParser(enum=Colors)"
   ]
  },
  {
   "cell_type": "code",
   "execution_count": 5,
   "metadata": {},
   "outputs": [],
   "source": [
    "from langchain_core.prompts import PromptTemplate\n",
    "from langchain_openai import ChatOpenAI\n",
    "\n",
    "# 프롬프트 템플릿을 생성한다.\n",
    "prompt = PromptTemplate.from_template(\n",
    "    \"\"\"\n",
    "       다음의 물체는 어떤 색깔인가요?\n",
    "\n",
    "       Object: {object}\n",
    "\n",
    "       Instructions: {instructions} \n",
    "    \"\"\"\n",
    ")\n",
    "\n",
    "prompt = prompt.partial(instructions=parser.get_format_instructions())\n",
    "\n",
    "# 체인을 생성\n",
    "chain = prompt | ChatOpenAI() | parser"
   ]
  },
  {
   "cell_type": "code",
   "execution_count": 6,
   "metadata": {},
   "outputs": [
    {
     "name": "stdout",
     "output_type": "stream",
     "text": [
      "Colors.BLUE\n"
     ]
    }
   ],
   "source": [
    "response = chain.invoke({\"object\": \"하늘\"})\n",
    "print(response)"
   ]
  },
  {
   "cell_type": "code",
   "execution_count": 7,
   "metadata": {},
   "outputs": [
    {
     "name": "stdout",
     "output_type": "stream",
     "text": [
      "파란색\n"
     ]
    }
   ],
   "source": [
    "print(response.value)"
   ]
  }
 ],
 "metadata": {
  "kernelspec": {
   "display_name": "langchain-kr-DBzZmRz6-py3.11",
   "language": "python",
   "name": "python3"
  },
  "language_info": {
   "codemirror_mode": {
    "name": "ipython",
    "version": 3
   },
   "file_extension": ".py",
   "mimetype": "text/x-python",
   "name": "python",
   "nbconvert_exporter": "python",
   "pygments_lexer": "ipython3",
   "version": "3.11.11"
  }
 },
 "nbformat": 4,
 "nbformat_minor": 2
}
