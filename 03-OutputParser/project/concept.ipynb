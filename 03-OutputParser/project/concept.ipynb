{
 "cells": [
  {
   "cell_type": "code",
   "execution_count": 1,
   "metadata": {},
   "outputs": [],
   "source": [
    "email_conversation = \"\"\"From: 테디 (teddy@teddynote.com)\n",
    "To: 이은채 대리님 (eunchae@teddyinternational.me)\n",
    "Subject: RAG 솔루션 시연 관련 미팅 제안\n",
    "\n",
    "안녕하세요, 이은채 대리님,\n",
    "\n",
    "저는 테디노트의 테디입니다. 최근 귀사에서 AI를 활용한 혁신적인 솔루션을 모색 중이라는 소식을 들었습니다. 테디노트는 AI 및 RAG 솔루션 분야에서 다양한 경험과 노하우를 가진 기업으로, 귀사의 요구에 맞는 최적의 솔루션을 제공할 수 있다고 자부합니다.\n",
    "\n",
    "저희 테디노트의 RAG 솔루션은 귀사의 데이터 활용을 극대화하고, 실시간으로 정확한 정보 제공을 통해 비즈니스 의사결정을 지원하는 데 탁월한 성능을 보입니다. 이 솔루션은 특히 다양한 산업에서의 성공적인 적용 사례를 통해 그 효과를 입증하였습니다.\n",
    "\n",
    "귀사와의 협력 가능성을 논의하고, 저희 RAG 솔루션의 구체적인 기능과 적용 방안을 시연하기 위해 미팅을 제안드립니다. 다음 주 목요일(7월 18일) 오전 10시에 귀사 사무실에서 만나 뵐 수 있을까요?\n",
    "\n",
    "미팅 시간을 조율하기 어려우시다면, 편하신 다른 일정을 알려주시면 감사하겠습니다. 이은채 대리님과의 소중한 만남을 통해 상호 발전적인 논의가 이루어지길 기대합니다.\n",
    "\n",
    "감사합니다.\n",
    "\n",
    "테디\n",
    "테디노트 AI 솔루션팀\"\"\""
   ]
  },
  {
   "cell_type": "code",
   "execution_count": 2,
   "metadata": {},
   "outputs": [
    {
     "name": "stdout",
     "output_type": "stream",
     "text": [
      "LangSmith 추적을 시작합니다.\n",
      "[프로젝트명]\n",
      "03-OutputParser-project\n"
     ]
    }
   ],
   "source": [
    "from dotenv import load_dotenv\n",
    "from langchain_teddynote import logging\n",
    "\n",
    "# .env 파일 로드\n",
    "load_dotenv()\n",
    "\n",
    "# langSmith에 로깅 할 프로젝트 명을 입력\n",
    "logging.langsmith(\"03-OutputParser-project\")"
   ]
  },
  {
   "cell_type": "code",
   "execution_count": null,
   "metadata": {},
   "outputs": [],
   "source": [
    "from pydantic import BaseModel, Field\n",
    "\n",
    "\n",
    "# 이메일 본문으로부터 주요 엔티티 추출\n",
    "class EmailSummary(BaseModel):\n",
    "    person: str = Field(description=\"메일을 보낸 사람\")\n",
    "    company: str = Field(description=\"메일을 보낸 사람의 회사 정보\")\n",
    "    email: str = Field(description=\"메일을 보낸 사람의 이메일 주소\")\n",
    "    subject: str = Field(description=\"메일 제목\")\n",
    "    summary: str = Field(description=\"메일 본문을 요약한 텍스트\")\n",
    "    date: str = Field(description=\"메일 본문에 언급된 미팅 날짜와 시간\")"
   ]
  },
  {
   "cell_type": "code",
   "execution_count": 4,
   "metadata": {},
   "outputs": [],
   "source": [
    "### Reminder\n",
    "\n",
    "## LCEL 구조\n",
    "# chain = prompt | llm | output_parser"
   ]
  },
  {
   "cell_type": "code",
   "execution_count": null,
   "metadata": {},
   "outputs": [],
   "source": [
    "# llm 정의\n",
    "from langchain_openai import ChatOpenAI\n",
    "\n",
    "llm = ChatOpenAI(temperature=0, model=\"gpt-4o\")"
   ]
  },
  {
   "cell_type": "code",
   "execution_count": null,
   "metadata": {},
   "outputs": [],
   "source": [
    "# output_parser 정의\n",
    "from langchain_core.output_parsers import PydanticOutputParser\n",
    "\n",
    "output_parser = PydanticOutputParser(pydantic_object=EmailSummary)"
   ]
  },
  {
   "cell_type": "code",
   "execution_count": 7,
   "metadata": {},
   "outputs": [
    {
     "name": "stdout",
     "output_type": "stream",
     "text": [
      "The output should be formatted as a JSON instance that conforms to the JSON schema below.\n",
      "\n",
      "As an example, for the schema {\"properties\": {\"foo\": {\"title\": \"Foo\", \"description\": \"a list of strings\", \"type\": \"array\", \"items\": {\"type\": \"string\"}}}, \"required\": [\"foo\"]}\n",
      "the object {\"foo\": [\"bar\", \"baz\"]} is a well-formatted instance of the schema. The object {\"properties\": {\"foo\": [\"bar\", \"baz\"]}} is not well-formatted.\n",
      "\n",
      "Here is the output schema:\n",
      "```\n",
      "{\"properties\": {\"person\": {\"description\": \"메일을 보낸 사람\", \"title\": \"Person\", \"type\": \"string\"}, \"company\": {\"description\": \"메일을 보낸 사람의 회사 정보\", \"title\": \"Company\", \"type\": \"string\"}, \"email\": {\"description\": \"메일을 보낸 사람의 이메일 주소\", \"title\": \"Email\", \"type\": \"string\"}, \"subject\": {\"description\": \"메일 제목\", \"title\": \"Subject\", \"type\": \"string\"}, \"summary\": {\"description\": \"메일 본문을 요약한 텍스트\", \"title\": \"Summary\", \"type\": \"string\"}, \"date\": {\"description\": \"메일 본문에 언급된 미팅 날짜와 시간\", \"title\": \"Date\", \"type\": \"string\"}}, \"required\": [\"person\", \"company\", \"email\", \"subject\", \"summary\", \"date\"]}\n",
      "```\n"
     ]
    }
   ],
   "source": [
    "# prompt 정의\n",
    "from langchain_core.prompts import PromptTemplate\n",
    "\n",
    "prompt = PromptTemplate.from_template(\n",
    "    \"\"\" \n",
    "        You are a helpful assistant. Please answer the following questions in KOREAN.\n",
    "\n",
    "        #QUESTION:\n",
    "        Please extract the key points from the following email.\n",
    "\n",
    "        #EMAIL CONVERSATION:\n",
    "        {email_conversation}\n",
    "\n",
    "        #FORMAT:\n",
    "        {format}\n",
    "    \"\"\"\n",
    ")\n",
    "prompt = prompt.partial(format=output_parser.get_format_instructions())\n",
    "\n",
    "print(output_parser.get_format_instructions())"
   ]
  },
  {
   "cell_type": "code",
   "execution_count": 8,
   "metadata": {},
   "outputs": [],
   "source": [
    "# 체인 생성\n",
    "chain = prompt | llm | output_parser"
   ]
  },
  {
   "cell_type": "code",
   "execution_count": 9,
   "metadata": {},
   "outputs": [
    {
     "name": "stdout",
     "output_type": "stream",
     "text": [
      "person='테디' company='테디노트' email='teddy@teddynote.com' subject='RAG 솔루션 시연 관련 미팅 제안' summary='테디노트의 테디가 이은채 대리님에게 AI 및 RAG 솔루션 시연을 위한 미팅을 제안합니다. 테디노트는 AI 솔루션 분야에서 다양한 경험을 가지고 있으며, 귀사의 데이터 활용을 극대화하고 비즈니스 의사결정을 지원하는 데 탁월한 성능을 보이는 RAG 솔루션을 제공합니다. 미팅은 다음 주 목요일(7월 18일) 오전 10시에 제안되었으며, 다른 일정이 필요하면 조율 가능합니다.' date='7월 18일 오전 10시'\n"
     ]
    }
   ],
   "source": [
    "# 체인 실행\n",
    "answer = chain.invoke({\"email_conversation\": email_conversation})\n",
    "\n",
    "print(answer)"
   ]
  },
  {
   "cell_type": "code",
   "execution_count": 10,
   "metadata": {},
   "outputs": [
    {
     "name": "stdout",
     "output_type": "stream",
     "text": [
      "7월 18일 오전 10시\n"
     ]
    }
   ],
   "source": [
    "print(answer.date)"
   ]
  },
  {
   "cell_type": "code",
   "execution_count": 11,
   "metadata": {},
   "outputs": [
    {
     "name": "stdout",
     "output_type": "stream",
     "text": [
      "테디노트의 테디가 이은채 대리님에게 AI 및 RAG 솔루션 시연을 위한 미팅을 제안합니다. 테디노트는 AI 솔루션 분야에서 다양한 경험을 가지고 있으며, 귀사의 데이터 활용을 극대화하고 비즈니스 의사결정을 지원하는 데 탁월한 성능을 보이는 RAG 솔루션을 제공합니다. 미팅은 다음 주 목요일(7월 18일) 오전 10시에 제안되었으며, 다른 일정이 필요하면 조율 가능합니다.\n"
     ]
    }
   ],
   "source": [
    "print(answer.summary)"
   ]
  },
  {
   "cell_type": "markdown",
   "metadata": {},
   "source": [
    "## 검색: SERP API\n",
    "\n",
    "참고: https://serpapi.com/integrations/python"
   ]
  },
  {
   "cell_type": "code",
   "execution_count": null,
   "metadata": {},
   "outputs": [],
   "source": [
    "from langchain_community.utilities import SerpAPIWrapper\n",
    "import os\n",
    "\n",
    "params = {\"engine\": \"google\", \"gl\": \"kr\", \"hl\": \"ko\", \"num\": \"3\"}\n",
    "\n",
    "search = SerpAPIWrapper(\n",
    "    params=params, serpapi_api_key=os.environ.get(\"SERPAPI_API_KEY\")\n",
    ")"
   ]
  },
  {
   "cell_type": "code",
   "execution_count": 13,
   "metadata": {},
   "outputs": [
    {
     "data": {
      "text/plain": [
       "'09ab7d2f227c9bb3a29ab969d210e1cd030bb09133a956773efd37f331cb5a91'"
      ]
     },
     "execution_count": 13,
     "metadata": {},
     "output_type": "execute_result"
    }
   ],
   "source": [
    "os.environ.get(\"SERPAPI_API_KEY\")"
   ]
  },
  {
   "cell_type": "code",
   "execution_count": 14,
   "metadata": {},
   "outputs": [
    {
     "data": {
      "text/plain": [
       "'테디 테디노트 teddy@teddynote.com'"
      ]
     },
     "execution_count": 14,
     "metadata": {},
     "output_type": "execute_result"
    }
   ],
   "source": [
    "query = f\"{answer.person} {answer.company} {answer.email}\"\n",
    "query"
   ]
  },
  {
   "cell_type": "code",
   "execution_count": 15,
   "metadata": {},
   "outputs": [],
   "source": [
    "search_result = search.run(query)"
   ]
  },
  {
   "cell_type": "code",
   "execution_count": 16,
   "metadata": {},
   "outputs": [
    {
     "data": {
      "text/plain": [
       "'[\\'테디노트 X 패스트캠퍼스 \"RAG 비법노트\" · 환경 설정 (Mac) · 환경 설정 (Windows). LocalModels. GGUF · HuggingFace gguf 파일을 Ollama 로딩 · TeddyNote.\\', \\'테디노트 데이터와 인공지능을 좋아하는 개발자 노트 · 검색. 토글 메뉴. 카테고리 · 태그 · 연도 · 강의 · 어바웃미 · Teddy. Creator & Data Lover. 팔로우. Pangyo, ...\\', \\'데이터 분석, 머신러닝, 딥러닝, LLM 에 대한 내용을 다룹니다. 연구보다는 개발에 관심이 많습니다 \\\\u200d♂️ ...more ...more fastcampus.co.kr/data_online_teddyand 2 ...\\']'"
      ]
     },
     "execution_count": 16,
     "metadata": {},
     "output_type": "execute_result"
    }
   ],
   "source": [
    "search_result"
   ]
  },
  {
   "cell_type": "code",
   "execution_count": 17,
   "metadata": {},
   "outputs": [
    {
     "data": {
      "text/plain": [
       "str"
      ]
     },
     "execution_count": 17,
     "metadata": {},
     "output_type": "execute_result"
    }
   ],
   "source": [
    "type(search_result)"
   ]
  },
  {
   "cell_type": "code",
   "execution_count": 18,
   "metadata": {},
   "outputs": [
    {
     "data": {
      "text/plain": [
       "['테디노트 X 패스트캠퍼스 \"RAG 비법노트\" · 환경 설정 (Mac) · 환경 설정 (Windows). LocalModels. GGUF · HuggingFace gguf 파일을 Ollama 로딩 · TeddyNote.',\n",
       " '테디노트 데이터와 인공지능을 좋아하는 개발자 노트 · 검색. 토글 메뉴. 카테고리 · 태그 · 연도 · 강의 · 어바웃미 · Teddy. Creator & Data Lover. 팔로우. Pangyo, ...',\n",
       " '데이터 분석, 머신러닝, 딥러닝, LLM 에 대한 내용을 다룹니다. 연구보다는 개발에 관심이 많습니다 \\u200d♂️ ...more ...more fastcampus.co.kr/data_online_teddyand 2 ...']"
      ]
     },
     "execution_count": 18,
     "metadata": {},
     "output_type": "execute_result"
    }
   ],
   "source": [
    "search_result = eval(search_result)\n",
    "search_result"
   ]
  },
  {
   "cell_type": "code",
   "execution_count": 19,
   "metadata": {},
   "outputs": [
    {
     "data": {
      "text/plain": [
       "list"
      ]
     },
     "execution_count": 19,
     "metadata": {},
     "output_type": "execute_result"
    }
   ],
   "source": [
    "type(search_result)"
   ]
  },
  {
   "cell_type": "code",
   "execution_count": 22,
   "metadata": {},
   "outputs": [
    {
     "data": {
      "text/plain": [
       "str"
      ]
     },
     "execution_count": 22,
     "metadata": {},
     "output_type": "execute_result"
    }
   ],
   "source": [
    "# 검색 결과\n",
    "search_result_string = \"\\n\".join(search_result)\n",
    "type(search_result_string)"
   ]
  },
  {
   "cell_type": "code",
   "execution_count": 21,
   "metadata": {},
   "outputs": [
    {
     "data": {
      "text/plain": [
       "EmailSummary(person='테디', company='테디노트', email='teddy@teddynote.com', subject='RAG 솔루션 시연 관련 미팅 제안', summary='테디노트의 테디가 이은채 대리님에게 AI 및 RAG 솔루션 시연을 위한 미팅을 제안합니다. 테디노트는 AI 솔루션 분야에서 다양한 경험을 가지고 있으며, 귀사의 데이터 활용을 극대화하고 비즈니스 의사결정을 지원하는 데 탁월한 성능을 보이는 RAG 솔루션을 제공합니다. 미팅은 다음 주 목요일(7월 18일) 오전 10시에 제안되었으며, 다른 일정이 필요하면 조율 가능합니다.', date='7월 18일 오전 10시')"
      ]
     },
     "execution_count": 21,
     "metadata": {},
     "output_type": "execute_result"
    }
   ],
   "source": [
    "answer"
   ]
  },
  {
   "cell_type": "code",
   "execution_count": null,
   "metadata": {},
   "outputs": [],
   "source": [
    "from langchain_core.prompts import PromptTemplate\n",
    "\n",
    "report_prompt = PromptTemplate.from_template(\n",
    "    \"\"\" \n",
    "        당신은 이메일의 주요 정보를 바탕으로 요약 정리해 주는 전문가 입니다.\n",
    "        당신의 임무는 다음의 이메일 정보를 바탕으로 보고서 형식의 요약을 작성하는 것입니다.\n",
    "        주어진 정보를 기반으로 양식(format)에 맞추어 요약을 작성해 주세요.\n",
    "\n",
    "        #Information:\n",
    "        - Sender: {sender}\n",
    "        - Additional Information about sender: {additional_information}\n",
    "        - Company: {company}\n",
    "        - Email: {email}\n",
    "        - Subject: {subject}\n",
    "        - Summary: {summary}\n",
    "        - Date: {date}\n",
    "\n",
    "        #Format(in markdown format):\n",
    "        보낸 사람 :\n",
    "        - (보낸 사람의 이름, 회사 정보)\n",
    "\n",
    "        이메일 주소:\n",
    "        - (보낸 사람의 이메일 주소)\n",
    "\n",
    "        보낸 사람과 관련하여 검색된 추가 정보:\n",
    "        - (검색된 추가 정보)\n",
    "\n",
    "        주요 내용:\n",
    "        - (이메일 제목, 요약)\n",
    "\n",
    "        일정 :\n",
    "        - (미팅 날짜 및 시간)\n",
    "\n",
    "        #Answer:\n",
    "    \"\"\"\n",
    ")"
   ]
  },
  {
   "cell_type": "code",
   "execution_count": 24,
   "metadata": {},
   "outputs": [],
   "source": [
    "from langchain_core.output_parsers import StrOutputParser"
   ]
  },
  {
   "cell_type": "code",
   "execution_count": null,
   "metadata": {},
   "outputs": [],
   "source": [
    "report_chain = report_prompt | llm | StrOutputParser()"
   ]
  },
  {
   "cell_type": "code",
   "execution_count": null,
   "metadata": {},
   "outputs": [],
   "source": [
    "report_response = report_chain.invoke(\n",
    "    {\n",
    "        \"sender\": answer.person,\n",
    "        \"company\": answer.company,\n",
    "        \"email\": answer.email,\n",
    "        \"subject\": answer.subject,\n",
    "        \"summary\": answer.summary,\n",
    "        \"date\": answer.date,\n",
    "        \"additional_information\": search_result_string,\n",
    "    }\n",
    ")"
   ]
  },
  {
   "cell_type": "code",
   "execution_count": 28,
   "metadata": {},
   "outputs": [
    {
     "name": "stdout",
     "output_type": "stream",
     "text": [
      "보낸 사람 :\n",
      "- 테디, 테디노트\n",
      "\n",
      "이메일 주소:\n",
      "- teddy@teddynote.com\n",
      "\n",
      "보낸 사람과 관련하여 검색된 추가 정보:\n",
      "- 테디는 테디노트와 패스트캠퍼스의 \"RAG 비법노트\"와 관련된 환경 설정을 다루며, 데이터와 인공지능을 좋아하는 개발자입니다. 그는 데이터 분석, 머신러닝, 딥러닝, LLM에 대한 내용을 다루며, 연구보다는 개발에 더 많은 관심을 가지고 있습니다. 테디노트는 AI 솔루션 분야에서 다양한 경험을 보유하고 있으며, 데이터 활용을 극대화하고 비즈니스 의사결정을 지원하는 RAG 솔루션을 제공합니다.\n",
      "\n",
      "주요 내용:\n",
      "- 이메일 제목: RAG 솔루션 시연 관련 미팅 제안\n",
      "- 요약: 테디노트의 테디가 이은채 대리님에게 AI 및 RAG 솔루션 시연을 위한 미팅을 제안합니다. 미팅은 귀사의 데이터 활용을 극대화하고 비즈니스 의사결정을 지원하는 데 탁월한 성능을 보이는 RAG 솔루션을 소개하기 위한 것입니다. 미팅은 다음 주 목요일(7월 18일) 오전 10시에 제안되었으며, 다른 일정이 필요하면 조율 가능합니다.\n",
      "\n",
      "일정 :\n",
      "- 7월 18일 오전 10시\n"
     ]
    }
   ],
   "source": [
    "print(report_response)"
   ]
  },
  {
   "cell_type": "code",
   "execution_count": null,
   "metadata": {},
   "outputs": [],
   "source": []
  }
 ],
 "metadata": {
  "kernelspec": {
   "display_name": "langchain-kr-DBzZmRz6-py3.11",
   "language": "python",
   "name": "python3"
  },
  "language_info": {
   "codemirror_mode": {
    "name": "ipython",
    "version": 3
   },
   "file_extension": ".py",
   "mimetype": "text/x-python",
   "name": "python",
   "nbconvert_exporter": "python",
   "pygments_lexer": "ipython3",
   "version": "3.11.11"
  }
 },
 "nbformat": 4,
 "nbformat_minor": 2
}
